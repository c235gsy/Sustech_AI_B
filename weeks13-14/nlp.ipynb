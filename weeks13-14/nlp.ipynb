{
 "cells": [
  {
   "cell_type": "markdown",
   "metadata": {},
   "source": [
    "# Weeks 13-14\n",
    "\n",
    "## Natural Language Processing\n",
    "***"
   ]
  },
  {
   "cell_type": "markdown",
   "metadata": {},
   "source": [
    "Read in some packages."
   ]
  },
  {
   "cell_type": "code",
   "execution_count": 73,
   "metadata": {},
   "outputs": [],
   "source": [
    "# Import pandas to read in data\n",
    "import numpy as np\n",
    "import pandas as pd\n",
    "\n",
    "# Import models and evaluation functions\n",
    "from sklearn.linear_model import LogisticRegression\n",
    "from sklearn.naive_bayes import BernoulliNB\n",
    "from sklearn import metrics\n",
    "from sklearn import model_selection\n",
    "\n",
    "# Import vectorizers to turn text into numeric\n",
    "from sklearn.feature_extraction.text import CountVectorizer\n",
    "from sklearn.feature_extraction.text import TfidfVectorizer\n",
    "\n",
    "# Import plotting\n",
    "import matplotlib.pylab as plt\n",
    "%matplotlib inline"
   ]
  },
  {
   "cell_type": "markdown",
   "metadata": {},
   "source": [
    "## Basic Feature Engineering\n",
    "We have examined two ways of dealing with categorical (i.e. text based) data: binarizing/dummy variables and numerical scaling. \n",
    "\n",
    "See the following examples for implementation in sklearn to start:"
   ]
  },
  {
   "cell_type": "code",
   "execution_count": 74,
   "metadata": {},
   "outputs": [],
   "source": [
    "data = pd.read_csv(\"data/categorical.csv\")"
   ]
  },
  {
   "cell_type": "code",
   "execution_count": 75,
   "metadata": {},
   "outputs": [
    {
     "data": {
      "text/html": [
       "<div>\n",
       "<style scoped>\n",
       "    .dataframe tbody tr th:only-of-type {\n",
       "        vertical-align: middle;\n",
       "    }\n",
       "\n",
       "    .dataframe tbody tr th {\n",
       "        vertical-align: top;\n",
       "    }\n",
       "\n",
       "    .dataframe thead th {\n",
       "        text-align: right;\n",
       "    }\n",
       "</style>\n",
       "<table border=\"1\" class=\"dataframe\">\n",
       "  <thead>\n",
       "    <tr style=\"text-align: right;\">\n",
       "      <th></th>\n",
       "      <th>Minutes</th>\n",
       "      <th>Gender</th>\n",
       "      <th>Marital</th>\n",
       "      <th>Satisfaction</th>\n",
       "      <th>Churn</th>\n",
       "    </tr>\n",
       "  </thead>\n",
       "  <tbody>\n",
       "    <tr>\n",
       "      <th>0</th>\n",
       "      <td>100</td>\n",
       "      <td>Male</td>\n",
       "      <td>Single</td>\n",
       "      <td>Low</td>\n",
       "      <td>0</td>\n",
       "    </tr>\n",
       "    <tr>\n",
       "      <th>1</th>\n",
       "      <td>220</td>\n",
       "      <td>Female</td>\n",
       "      <td>Married</td>\n",
       "      <td>Very Low</td>\n",
       "      <td>0</td>\n",
       "    </tr>\n",
       "    <tr>\n",
       "      <th>2</th>\n",
       "      <td>500</td>\n",
       "      <td>Female</td>\n",
       "      <td>Divorced</td>\n",
       "      <td>High</td>\n",
       "      <td>1</td>\n",
       "    </tr>\n",
       "    <tr>\n",
       "      <th>3</th>\n",
       "      <td>335</td>\n",
       "      <td>Male</td>\n",
       "      <td>Single</td>\n",
       "      <td>Neutral</td>\n",
       "      <td>0</td>\n",
       "    </tr>\n",
       "    <tr>\n",
       "      <th>4</th>\n",
       "      <td>450</td>\n",
       "      <td>Male</td>\n",
       "      <td>Married</td>\n",
       "      <td>Very High</td>\n",
       "      <td>1</td>\n",
       "    </tr>\n",
       "  </tbody>\n",
       "</table>\n",
       "</div>"
      ],
      "text/plain": [
       "   Minutes  Gender   Marital Satisfaction  Churn\n",
       "0      100    Male    Single          Low      0\n",
       "1      220  Female   Married     Very Low      0\n",
       "2      500  Female  Divorced         High      1\n",
       "3      335    Male    Single      Neutral      0\n",
       "4      450    Male   Married    Very High      1"
      ]
     },
     "execution_count": 75,
     "metadata": {},
     "output_type": "execute_result"
    }
   ],
   "source": [
    "data"
   ]
  },
  {
   "cell_type": "markdown",
   "metadata": {},
   "source": [
    "### Binarizing\n",
    "Get a list of features you want to binarize, go through each feature and create new features for each level."
   ]
  },
  {
   "cell_type": "code",
   "execution_count": 76,
   "metadata": {},
   "outputs": [],
   "source": [
    "features_to_binarize = [\"Gender\", \"Marital\"]\n",
    "\n",
    "# Go through each feature\n",
    "for feature in features_to_binarize:\n",
    "    # Go through each level in this feature (except the last one!)\n",
    "    for level in data[feature].unique()[0:-1]:\n",
    "        # Create new feature for this level\n",
    "        data[feature + \"_\" + level] = pd.Series(data[feature] == level, dtype=int)\n",
    "    # Drop original feature\n",
    "    data = data.drop([feature], 1)"
   ]
  },
  {
   "cell_type": "code",
   "execution_count": 77,
   "metadata": {},
   "outputs": [
    {
     "data": {
      "text/html": [
       "<div>\n",
       "<style scoped>\n",
       "    .dataframe tbody tr th:only-of-type {\n",
       "        vertical-align: middle;\n",
       "    }\n",
       "\n",
       "    .dataframe tbody tr th {\n",
       "        vertical-align: top;\n",
       "    }\n",
       "\n",
       "    .dataframe thead th {\n",
       "        text-align: right;\n",
       "    }\n",
       "</style>\n",
       "<table border=\"1\" class=\"dataframe\">\n",
       "  <thead>\n",
       "    <tr style=\"text-align: right;\">\n",
       "      <th></th>\n",
       "      <th>Minutes</th>\n",
       "      <th>Satisfaction</th>\n",
       "      <th>Churn</th>\n",
       "      <th>Gender_Male</th>\n",
       "      <th>Marital_Single</th>\n",
       "      <th>Marital_Married</th>\n",
       "    </tr>\n",
       "  </thead>\n",
       "  <tbody>\n",
       "    <tr>\n",
       "      <th>0</th>\n",
       "      <td>100</td>\n",
       "      <td>Low</td>\n",
       "      <td>0</td>\n",
       "      <td>1</td>\n",
       "      <td>1</td>\n",
       "      <td>0</td>\n",
       "    </tr>\n",
       "    <tr>\n",
       "      <th>1</th>\n",
       "      <td>220</td>\n",
       "      <td>Very Low</td>\n",
       "      <td>0</td>\n",
       "      <td>0</td>\n",
       "      <td>0</td>\n",
       "      <td>1</td>\n",
       "    </tr>\n",
       "    <tr>\n",
       "      <th>2</th>\n",
       "      <td>500</td>\n",
       "      <td>High</td>\n",
       "      <td>1</td>\n",
       "      <td>0</td>\n",
       "      <td>0</td>\n",
       "      <td>0</td>\n",
       "    </tr>\n",
       "    <tr>\n",
       "      <th>3</th>\n",
       "      <td>335</td>\n",
       "      <td>Neutral</td>\n",
       "      <td>0</td>\n",
       "      <td>1</td>\n",
       "      <td>1</td>\n",
       "      <td>0</td>\n",
       "    </tr>\n",
       "    <tr>\n",
       "      <th>4</th>\n",
       "      <td>450</td>\n",
       "      <td>Very High</td>\n",
       "      <td>1</td>\n",
       "      <td>1</td>\n",
       "      <td>0</td>\n",
       "      <td>1</td>\n",
       "    </tr>\n",
       "  </tbody>\n",
       "</table>\n",
       "</div>"
      ],
      "text/plain": [
       "   Minutes Satisfaction  Churn  Gender_Male  Marital_Single  Marital_Married\n",
       "0      100          Low      0            1               1                0\n",
       "1      220     Very Low      0            0               0                1\n",
       "2      500         High      1            0               0                0\n",
       "3      335      Neutral      0            1               1                0\n",
       "4      450    Very High      1            1               0                1"
      ]
     },
     "execution_count": 77,
     "metadata": {},
     "output_type": "execute_result"
    }
   ],
   "source": [
    "data"
   ]
  },
  {
   "cell_type": "markdown",
   "metadata": {},
   "source": [
    "### Numeric scaling\n",
    "We can also replace text levels with some numeric mapping we create"
   ]
  },
  {
   "cell_type": "code",
   "execution_count": 78,
   "metadata": {},
   "outputs": [],
   "source": [
    "data['Satisfaction'] = data['Satisfaction'].replace(['Very Low', 'Low', 'Neutral', 'High', 'Very High'], \n",
    "                                                    [-2, -1, 0, 1, 2])"
   ]
  },
  {
   "cell_type": "code",
   "execution_count": 79,
   "metadata": {},
   "outputs": [
    {
     "data": {
      "text/html": [
       "<div>\n",
       "<style scoped>\n",
       "    .dataframe tbody tr th:only-of-type {\n",
       "        vertical-align: middle;\n",
       "    }\n",
       "\n",
       "    .dataframe tbody tr th {\n",
       "        vertical-align: top;\n",
       "    }\n",
       "\n",
       "    .dataframe thead th {\n",
       "        text-align: right;\n",
       "    }\n",
       "</style>\n",
       "<table border=\"1\" class=\"dataframe\">\n",
       "  <thead>\n",
       "    <tr style=\"text-align: right;\">\n",
       "      <th></th>\n",
       "      <th>Minutes</th>\n",
       "      <th>Satisfaction</th>\n",
       "      <th>Churn</th>\n",
       "      <th>Gender_Male</th>\n",
       "      <th>Marital_Single</th>\n",
       "      <th>Marital_Married</th>\n",
       "    </tr>\n",
       "  </thead>\n",
       "  <tbody>\n",
       "    <tr>\n",
       "      <th>0</th>\n",
       "      <td>100</td>\n",
       "      <td>-1</td>\n",
       "      <td>0</td>\n",
       "      <td>1</td>\n",
       "      <td>1</td>\n",
       "      <td>0</td>\n",
       "    </tr>\n",
       "    <tr>\n",
       "      <th>1</th>\n",
       "      <td>220</td>\n",
       "      <td>-2</td>\n",
       "      <td>0</td>\n",
       "      <td>0</td>\n",
       "      <td>0</td>\n",
       "      <td>1</td>\n",
       "    </tr>\n",
       "    <tr>\n",
       "      <th>2</th>\n",
       "      <td>500</td>\n",
       "      <td>1</td>\n",
       "      <td>1</td>\n",
       "      <td>0</td>\n",
       "      <td>0</td>\n",
       "      <td>0</td>\n",
       "    </tr>\n",
       "    <tr>\n",
       "      <th>3</th>\n",
       "      <td>335</td>\n",
       "      <td>0</td>\n",
       "      <td>0</td>\n",
       "      <td>1</td>\n",
       "      <td>1</td>\n",
       "      <td>0</td>\n",
       "    </tr>\n",
       "    <tr>\n",
       "      <th>4</th>\n",
       "      <td>450</td>\n",
       "      <td>2</td>\n",
       "      <td>1</td>\n",
       "      <td>1</td>\n",
       "      <td>0</td>\n",
       "      <td>1</td>\n",
       "    </tr>\n",
       "  </tbody>\n",
       "</table>\n",
       "</div>"
      ],
      "text/plain": [
       "   Minutes  Satisfaction  Churn  Gender_Male  Marital_Single  Marital_Married\n",
       "0      100            -1      0            1               1                0\n",
       "1      220            -2      0            0               0                1\n",
       "2      500             1      1            0               0                0\n",
       "3      335             0      0            1               1                0\n",
       "4      450             2      1            1               0                1"
      ]
     },
     "execution_count": 79,
     "metadata": {},
     "output_type": "execute_result"
    }
   ],
   "source": [
    "data"
   ]
  },
  {
   "cell_type": "code",
   "execution_count": null,
   "metadata": {},
   "outputs": [],
   "source": []
  },
  {
   "cell_type": "markdown",
   "metadata": {},
   "source": [
    "## Text classification\n",
    "We are going to look at some Amazon reviews and classify them into positive or negative."
   ]
  },
  {
   "cell_type": "markdown",
   "metadata": {},
   "source": [
    "### Data\n",
    "The file `data/books.csv` contains 2,000 Amazon book reviews. The data set contains two features: the first column (contained in quotes) is the review text. The second column is a binary label indicating if the review is positive or negative.\n",
    "\n",
    "Let's take a quick look at the file."
   ]
  },
  {
   "cell_type": "code",
   "execution_count": 80,
   "metadata": {},
   "outputs": [
    {
     "name": "stdout",
     "output_type": "stream",
     "text": [
      "review_text,positive\r\n",
      "\"THis book was horrible.  If it was possible to rate it lower than one star i would have.  I am an avid reader and picked this book up after my mom had gotten it from a friend.  I read half of it, suffering from a headache the entire time, and then got to the part about the relationship the 13 year old boy had with a 33 year old man and i lit this book on fire.  One less copy in the world...don't waste your money.I wish i had the time spent reading this book back so i could use it for better purposes.  THis book wasted my life\",0\r\n",
      "\"I like to use the Amazon reviews when purchasing books, especially alert for dissenting perceptions about higly rated items, which usually disuades me from a selection.  So I offer this review that seriously questions the popularity of this work - I found it smug, self-serving and self-indulgent, written by a person with little or no empathy, especially for the people he castigates. For example, his portrayal of the family therapist seems implausible and reaches for effect and panders to theshrink bashers of the world. This play for effect tone throughout the book was very distasteful to me\",0\r\n"
     ]
    }
   ],
   "source": [
    "!head -3 data/books.csv"
   ]
  },
  {
   "cell_type": "markdown",
   "metadata": {},
   "source": [
    "Let's read the data into a pandas data frame. You'll notice two new attributed in `pd.read_csv()` that we've never seen before. The first, `quotechar` is tell us what is being used to \"encapsulate\" the text fields. Since our review text is surrounding by double quotes, we let pandas know. We use a `\\` since the quote is also used to surround the quote. This backslash is known as an escape character. We also let pandas now this."
   ]
  },
  {
   "cell_type": "code",
   "execution_count": 81,
   "metadata": {},
   "outputs": [],
   "source": [
    "data = pd.read_csv(\"data/books.csv\", quotechar=\"\\\"\", escapechar=\"\\\\\")"
   ]
  },
  {
   "cell_type": "code",
   "execution_count": 82,
   "metadata": {
    "scrolled": true
   },
   "outputs": [
    {
     "data": {
      "text/html": [
       "<div>\n",
       "<style scoped>\n",
       "    .dataframe tbody tr th:only-of-type {\n",
       "        vertical-align: middle;\n",
       "    }\n",
       "\n",
       "    .dataframe tbody tr th {\n",
       "        vertical-align: top;\n",
       "    }\n",
       "\n",
       "    .dataframe thead th {\n",
       "        text-align: right;\n",
       "    }\n",
       "</style>\n",
       "<table border=\"1\" class=\"dataframe\">\n",
       "  <thead>\n",
       "    <tr style=\"text-align: right;\">\n",
       "      <th></th>\n",
       "      <th>review_text</th>\n",
       "      <th>positive</th>\n",
       "    </tr>\n",
       "  </thead>\n",
       "  <tbody>\n",
       "    <tr>\n",
       "      <th>0</th>\n",
       "      <td>THis book was horrible.  If it was possible to...</td>\n",
       "      <td>0</td>\n",
       "    </tr>\n",
       "    <tr>\n",
       "      <th>1</th>\n",
       "      <td>I like to use the Amazon reviews when purchasi...</td>\n",
       "      <td>0</td>\n",
       "    </tr>\n",
       "    <tr>\n",
       "      <th>2</th>\n",
       "      <td>THis book was horrible.  If it was possible to...</td>\n",
       "      <td>0</td>\n",
       "    </tr>\n",
       "    <tr>\n",
       "      <th>3</th>\n",
       "      <td>I'm not sure who's writing these reviews, but ...</td>\n",
       "      <td>0</td>\n",
       "    </tr>\n",
       "    <tr>\n",
       "      <th>4</th>\n",
       "      <td>I picked up the first book in this series (The...</td>\n",
       "      <td>0</td>\n",
       "    </tr>\n",
       "  </tbody>\n",
       "</table>\n",
       "</div>"
      ],
      "text/plain": [
       "                                         review_text  positive\n",
       "0  THis book was horrible.  If it was possible to...         0\n",
       "1  I like to use the Amazon reviews when purchasi...         0\n",
       "2  THis book was horrible.  If it was possible to...         0\n",
       "3  I'm not sure who's writing these reviews, but ...         0\n",
       "4  I picked up the first book in this series (The...         0"
      ]
     },
     "execution_count": 82,
     "metadata": {},
     "output_type": "execute_result"
    }
   ],
   "source": [
    "data.head()"
   ]
  },
  {
   "cell_type": "markdown",
   "metadata": {},
   "source": [
    "### Text as a set of features\n",
    "Going from text to numeric data is very easy. Let's take a look at how we can do this. We'll start by separating out our X and Y data."
   ]
  },
  {
   "cell_type": "code",
   "execution_count": 83,
   "metadata": {},
   "outputs": [],
   "source": [
    "X_text = data['review_text']\n",
    "Y = data['positive']"
   ]
  },
  {
   "cell_type": "code",
   "execution_count": 84,
   "metadata": {},
   "outputs": [
    {
     "data": {
      "text/plain": [
       "0    THis book was horrible.  If it was possible to...\n",
       "1    I like to use the Amazon reviews when purchasi...\n",
       "2    THis book was horrible.  If it was possible to...\n",
       "3    I'm not sure who's writing these reviews, but ...\n",
       "4    I picked up the first book in this series (The...\n",
       "Name: review_text, dtype: object"
      ]
     },
     "execution_count": 84,
     "metadata": {},
     "output_type": "execute_result"
    }
   ],
   "source": [
    "# look at the first few lines of X_text\n",
    "X_text.head()"
   ]
  },
  {
   "cell_type": "markdown",
   "metadata": {},
   "source": [
    "Do the same for Y"
   ]
  },
  {
   "cell_type": "code",
   "execution_count": 85,
   "metadata": {},
   "outputs": [
    {
     "data": {
      "text/plain": [
       "0    0\n",
       "1    0\n",
       "2    0\n",
       "3    0\n",
       "4    0\n",
       "Name: positive, dtype: int64"
      ]
     },
     "execution_count": 85,
     "metadata": {},
     "output_type": "execute_result"
    }
   ],
   "source": [
    "# your code here\n",
    "Y.head()"
   ]
  },
  {
   "cell_type": "markdown",
   "metadata": {},
   "source": [
    "Next, we will turn `X_text` into just `X` -- a numeric representation that we can use in our algorithms or for queries...\n",
    "\n",
    "Text preprocessing, tokenizing and filtering of stopwords are all included in CountVectorizer, which builds a dictionary of features and transforms documents to feature vectors. \n",
    "\n",
    "The result of the following is a matrix with each row a file and each column a word. The matrix is sparse because most words only appear a few times. The values are 1 if a word appears in a document and 1 otherwise."
   ]
  },
  {
   "cell_type": "code",
   "execution_count": 86,
   "metadata": {},
   "outputs": [],
   "source": [
    "# Create a vectorizer that will track text as binary features\n",
    "binary_vectorizer = CountVectorizer(binary=True)\n",
    "\n",
    "# Let the vectorizer learn what tokens exist in the text data\n",
    "binary_vectorizer.fit(X_text)\n",
    "\n",
    "# Turn these tokens into a numeric matrix\n",
    "X = binary_vectorizer.transform(X_text)"
   ]
  },
  {
   "cell_type": "code",
   "execution_count": 87,
   "metadata": {},
   "outputs": [
    {
     "data": {
      "text/plain": [
       "(2000, 22743)"
      ]
     },
     "execution_count": 87,
     "metadata": {},
     "output_type": "execute_result"
    }
   ],
   "source": [
    "# Dimensions of X:\n",
    "X.shape\n"
   ]
  },
  {
   "cell_type": "markdown",
   "metadata": {},
   "source": [
    "There are 2000 documents (each row) and 22,743 words/tokens.\n",
    "\n",
    "Can look at some of the words by querying the binary vectorizer:"
   ]
  },
  {
   "cell_type": "code",
   "execution_count": 88,
   "metadata": {},
   "outputs": [
    {
     "data": {
      "text/plain": [
       "['hygi',\n",
       " 'hygience',\n",
       " 'hygiene',\n",
       " 'hyojin',\n",
       " 'hype',\n",
       " 'hyped',\n",
       " 'hyper',\n",
       " 'hyperbole',\n",
       " 'hyperpat',\n",
       " 'hyperpussiance',\n",
       " 'hyperspace',\n",
       " 'hypnosis',\n",
       " 'hypnotic',\n",
       " 'hypnotism',\n",
       " 'hypnotizing',\n",
       " 'hypocrisy',\n",
       " 'hypocrite',\n",
       " 'hypocritical',\n",
       " 'hypocritically',\n",
       " 'hypoglycemia']"
      ]
     },
     "execution_count": 88,
     "metadata": {},
     "output_type": "execute_result"
    }
   ],
   "source": [
    "# List of the 20 features (words) in column 10,000\n",
    "features = binary_vectorizer.get_feature_names()\n",
    "features[10000:10020]"
   ]
  },
  {
   "cell_type": "markdown",
   "metadata": {},
   "source": [
    "Spend some time to look at the binary vectoriser.\n",
    "\n",
    "Examine the structure of X. Look at some the rows and columns values."
   ]
  },
  {
   "cell_type": "code",
   "execution_count": 89,
   "metadata": {},
   "outputs": [
    {
     "data": {
      "image/png": "[encoded data removed]",
      "text/plain": [
       "<matplotlib.figure.Figure at 0x1a19a0e6d8>"
      ]
     },
     "metadata": {
      "needs_background": "light"
     },
     "output_type": "display_data"
    }
   ],
   "source": [
    "# see the density of 0s and 1s in X\n",
    "import scipy.sparse as sps\n",
    "import matplotlib.pyplot as plt\n",
    "plt.figure(figsize=(20,10))\n",
    "plt.spy(X.toarray())\n",
    "plt.show()"
   ]
  },
  {
   "cell_type": "markdown",
   "metadata": {},
   "source": [
    "Look at the sparse matrix above. Notice how some columns are quite dark (i.e. the words appear in almost every file). \n",
    "\n",
    "What are the 5 most common words?"
   ]
  },
  {
   "cell_type": "code",
   "execution_count": 90,
   "metadata": {},
   "outputs": [
    {
     "name": "stdout",
     "output_type": "stream",
     "text": [
      "the     1889\n",
      "and     1806\n",
      "to      1734\n",
      "of      1706\n",
      "this    1676\n",
      "dtype: int64\n"
     ]
    }
   ],
   "source": [
    "# your code here\n",
    "sta = pd.Series(X.toarray().sum(axis = 0), index = features).sort_values()\n",
    "print (sta[-1:-6:-1])"
   ]
  },
  {
   "cell_type": "markdown",
   "metadata": {},
   "source": [
    "Your answer here"
   ]
  },
  {
   "cell_type": "markdown",
   "metadata": {},
   "source": [
    "Write a function that takes the sparse matrix X, and gets the feature list from the vectoriser, and a document index (1 - 2000) and returns a list of the words in the file that corresponds to the index (the list should be obtained from the sparse matrix / bag of words representation NOT from the original data file). "
   ]
  },
  {
   "cell_type": "code",
   "execution_count": 91,
   "metadata": {},
   "outputs": [
    {
     "data": {
      "text/plain": [
       "['about',\n",
       " 'alert',\n",
       " 'amazon',\n",
       " 'and',\n",
       " 'bashers',\n",
       " 'book',\n",
       " 'books',\n",
       " 'by',\n",
       " 'castigates',\n",
       " 'dissenting',\n",
       " 'distasteful',\n",
       " 'disuades',\n",
       " 'effect',\n",
       " 'empathy',\n",
       " 'especially',\n",
       " 'example',\n",
       " 'family',\n",
       " 'for',\n",
       " 'found',\n",
       " 'from',\n",
       " 'he',\n",
       " 'higly',\n",
       " 'his',\n",
       " 'implausible',\n",
       " 'indulgent',\n",
       " 'it',\n",
       " 'items',\n",
       " 'like',\n",
       " 'little',\n",
       " 'me',\n",
       " 'no',\n",
       " 'of',\n",
       " 'offer',\n",
       " 'or',\n",
       " 'panders',\n",
       " 'people',\n",
       " 'perceptions',\n",
       " 'person',\n",
       " 'play',\n",
       " 'popularity',\n",
       " 'portrayal',\n",
       " 'purchasing',\n",
       " 'questions',\n",
       " 'rated',\n",
       " 'reaches',\n",
       " 'review',\n",
       " 'reviews',\n",
       " 'seems',\n",
       " 'selection',\n",
       " 'self',\n",
       " 'seriously',\n",
       " 'serving',\n",
       " 'smug',\n",
       " 'so',\n",
       " 'that',\n",
       " 'the',\n",
       " 'therapist',\n",
       " 'theshrink',\n",
       " 'this',\n",
       " 'throughout',\n",
       " 'to',\n",
       " 'tone',\n",
       " 'use',\n",
       " 'usually',\n",
       " 'very',\n",
       " 'was',\n",
       " 'when',\n",
       " 'which',\n",
       " 'with',\n",
       " 'work',\n",
       " 'world',\n",
       " 'written']"
      ]
     },
     "execution_count": 91,
     "metadata": {},
     "output_type": "execute_result"
    }
   ],
   "source": [
    "# complete the function \n",
    "# returns vector of words / features\n",
    "def getWords(bag_of_words, file_index_row, features_list):\n",
    "    words = bag_of_words.toarray()[file_index_row,:]\n",
    "    content = []\n",
    "    for i in range (0,len(words)):\n",
    "        if(words[i]==1):\n",
    "            content.append(features_list[i])\n",
    "    return content\n",
    "\n",
    "getWords(X, 1, features)\n"
   ]
  },
  {
   "cell_type": "code",
   "execution_count": null,
   "metadata": {},
   "outputs": [],
   "source": []
  },
  {
   "cell_type": "markdown",
   "metadata": {},
   "source": [
    "### Modeling\n",
    "We have a 22743 features, let's use them in some different models."
   ]
  },
  {
   "cell_type": "code",
   "execution_count": 92,
   "metadata": {},
   "outputs": [
    {
     "name": "stderr",
     "output_type": "stream",
     "text": [
      "/Users/guosiyuan/miniconda3/lib/python3.6/site-packages/sklearn/linear_model/logistic.py:432: FutureWarning: Default solver will be changed to 'lbfgs' in 0.22. Specify a solver to silence this warning.\n",
      "  FutureWarning)\n"
     ]
    },
    {
     "name": "stdout",
     "output_type": "stream",
     "text": [
      "Mean accuracy of our classifier is 0.768\n"
     ]
    }
   ],
   "source": [
    "# Create a model\n",
    "logistic_regression = LogisticRegression()\n",
    "\n",
    "# Use this model and our data to get 5-fold cross validation accuracy\n",
    "acc = model_selection.cross_val_score(logistic_regression, X, Y, scoring=\"accuracy\", cv=5)\n",
    "\n",
    "# Print out the average accuracy rounded to three decimal points\n",
    "print (\"Mean accuracy of our classifier is \" + str(round(np.mean(acc), 3)) )"
   ]
  },
  {
   "cell_type": "markdown",
   "metadata": {},
   "source": [
    "Use the above classifier to classify a new example (new review below):"
   ]
  },
  {
   "cell_type": "code",
   "execution_count": 93,
   "metadata": {},
   "outputs": [
    {
     "name": "stdout",
     "output_type": "stream",
     "text": [
      "The prediction of the new example is 0\n"
     ]
    }
   ],
   "source": [
    "new_review = \"\"\"\"\n",
    "really bad book!\n",
    "\"\"\"\n",
    "\n",
    "# your code here ...\n",
    "logistic_regression = logistic_regression.fit(X.toarray(),Y)\n",
    "words = new_review.split(' ')\n",
    "new_data = []\n",
    "for feature in features:\n",
    "    if feature in words:\n",
    "        new_data.append(1)\n",
    "    else:\n",
    "        new_data.append(0)\n",
    "prediction = logistic_regression.predict([new_data])\n",
    "print(\"The prediction of the new example is \"+str(prediction[0]))\n",
    "\n"
   ]
  },
  {
   "cell_type": "markdown",
   "metadata": {},
   "source": [
    "Let's try using full counts instead of a binary representation (i.e. each time a word appears use the raw count value). "
   ]
  },
  {
   "cell_type": "code",
   "execution_count": 108,
   "metadata": {},
   "outputs": [
    {
     "name": "stderr",
     "output_type": "stream",
     "text": [
      "/Users/guosiyuan/miniconda3/lib/python3.6/site-packages/sklearn/linear_model/logistic.py:432: FutureWarning: Default solver will be changed to 'lbfgs' in 0.22. Specify a solver to silence this warning.\n",
      "  FutureWarning)\n"
     ]
    },
    {
     "name": "stdout",
     "output_type": "stream",
     "text": [
      "Accuracy for our classifier is 0.786\n"
     ]
    }
   ],
   "source": [
    "# Create a vectorizer that will track text as binary features\n",
    "count_vectorizer = CountVectorizer()\n",
    "\n",
    "# Let the vectorizer learn what tokens exist in the text data\n",
    "count_vectorizer.fit(X_text)\n",
    "\n",
    "# Turn these tokens into a numeric matrix\n",
    "X = count_vectorizer.transform(X_text)\n",
    "\n",
    "# Create a model\n",
    "logistic_regression = LogisticRegression()\n",
    "\n",
    "# Use this model and our data to get 5-fold cross validation accuracy\n",
    "acc = model_selection.cross_val_score(logistic_regression, X, Y, scoring=\"accuracy\", cv=5)\n",
    "\n",
    "# Print out the average AUC rounded to three decimal points\n",
    "print( \"Accuracy for our classifier is \" + str(round(np.mean(acc), 3)) )"
   ]
  },
  {
   "cell_type": "markdown",
   "metadata": {},
   "source": [
    "Now try using TF-IDF:"
   ]
  },
  {
   "cell_type": "code",
   "execution_count": 110,
   "metadata": {},
   "outputs": [
    {
     "name": "stdout",
     "output_type": "stream",
     "text": [
      "Accuracy for our classifier is 0.784\n"
     ]
    },
    {
     "name": "stderr",
     "output_type": "stream",
     "text": [
      "/Users/guosiyuan/miniconda3/lib/python3.6/site-packages/sklearn/linear_model/logistic.py:432: FutureWarning: Default solver will be changed to 'lbfgs' in 0.22. Specify a solver to silence this warning.\n",
      "  FutureWarning)\n"
     ]
    }
   ],
   "source": [
    "# Create a vectorizer that will track text as binary features\n",
    "tfidf_vectorizer = TfidfVectorizer()\n",
    "\n",
    "# Let the vectorizer learn what tokens exist in the text data\n",
    "tfidf_vectorizer.fit(X_text)\n",
    "\n",
    "# Turn these tokens into a numeric matrix\n",
    "X = tfidf_vectorizer.transform(X_text)\n",
    "\n",
    "# Create a model\n",
    "logistic_regression = LogisticRegression()\n",
    "\n",
    "# Use this model and our data to get 5-fold cross validation AUCs\n",
    "acc = model_selection.cross_val_score(logistic_regression, X, Y, scoring=\"accuracy\", cv=5)\n",
    "\n",
    "# Print out the average AUC rounded to three decimal points\n",
    "print( \"Accuracy for our classifier is \" + str(round(np.mean(acc), 3)) )"
   ]
  },
  {
   "cell_type": "markdown",
   "metadata": {},
   "source": [
    "Use the tfidf classifier to classify some online book reviews from here: https://www.amazon.com/\n",
    "\n",
    "Hint: You can copy and paste a review from the online site into a multiline string literal with 3 quotes: \n",
    "```\n",
    "\"\"\"\n",
    "copied and pasted\n",
    "multiline\n",
    "string...\n",
    "\"\"\"\n",
    "```"
   ]
  },
  {
   "cell_type": "code",
   "execution_count": 112,
   "metadata": {},
   "outputs": [
    {
     "name": "stdout",
     "output_type": "stream",
     "text": [
      "The prediction of the new example is 1\n"
     ]
    }
   ],
   "source": [
    "# your code here\n",
    "test = \"I loved Reed and Charlotte Everything that happened with the both of them made them that much more real There were also some laugh out loud moments so watch out for those if you are reading in a public place or else people will look at you like you are crazy\"\n",
    "test = test.split(' ')\n",
    "data = []\n",
    "for feature in features:\n",
    "    if feature in test:\n",
    "        data.append(1)\n",
    "    else:\n",
    "        data.append(0)\n",
    "logistic_regression = logistic_regression.fit(X.toarray(),Y)\n",
    "result = logistic_regression.predict([data])\n",
    "\n",
    "print(\"The prediction of the new example is \"+str(result[0]))"
   ]
  },
  {
   "cell_type": "markdown",
   "metadata": {},
   "source": [
    "### Extending the implementation\n",
    "#### Features\n",
    "Tfidf is looking pretty good! How about adding n-grams? Stop words? Lowercase transforming?\n",
    "\n",
    "We saw that the most common words include \"the\" and others above - start by making these stop words.\n",
    "\n",
    "N-grams are conjunctions of words (e.g. a 2-gram adds all sequences of 2 words)\n",
    "\n",
    "\n",
    "Look at the docs: `CountVectorizer()` and `TfidfVectorizer()` can be modified to handle all of these things. Work in groups and try a few different combinations of these settings for anything you want: binary counts, numeric counts, tf-idf counts. Here is how you would use these settings:\n",
    "\n",
    "- \"`ngram_range=(1,2)`\": would include unigrams and bigrams (ie including combinations of words in sequence)\n",
    "- \"`stop_words=\"english\"`\": would use a standard set of English stop words\n",
    "- \"`lowercase=False`\": would turn off lowercase transformation (it is actually on by default)!\n",
    "\n",
    "You can use some of these like this:\n",
    "\n",
    "`tfidf_vectorizer = TfidfVectorizer(ngram_range=(1,2), lowercase=False)`\n",
    "\n",
    "#### Models\n",
    "Next swap out the line creating a logistic regression with one making a naive Bayes or support vector machines (SVM). SVM have been shown to be very effective in text classification. Naive Bayes has been used a lot also.\n",
    "\n",
    "For example see: http://www.cs.cornell.edu/home/llee/papers/sentiment.pdf\n"
   ]
  },
  {
   "cell_type": "code",
   "execution_count": null,
   "metadata": {},
   "outputs": [],
   "source": [
    "# Try different features, models, or both!\n",
    "# What is the highest accuracy you can get?"
   ]
  },
  {
   "cell_type": "code",
   "execution_count": 97,
   "metadata": {},
   "outputs": [
    {
     "name": "stdout",
     "output_type": "stream",
     "text": [
      "While setting of TfidfVectorizer is empyt: \n",
      "Accuracy for our classifier by using SVM is 0.788\n",
      "Accuracy for our classifier by using Native Bayes is 0.766\n"
     ]
    }
   ],
   "source": [
    "from sklearn.feature_extraction.text import TfidfVectorizer\n",
    "from sklearn.svm import LinearSVC\n",
    "from sklearn.naive_bayes import MultinomialNB\n",
    "\n",
    "tfidf_vectorizer = TfidfVectorizer()\n",
    "tfidf_vectorizer.fit(X_text)\n",
    "numeric_X = tfidf_vectorizer.transform(X_text)\n",
    "\n",
    "LinearSVC  = LinearSVC()\n",
    "MultinomialNB = MultinomialNB()\n",
    "acc_SVC = model_selection.cross_val_score(LinearSVC, numeric_X, Y, scoring=\"accuracy\", cv=5)\n",
    "acc_NB = model_selection.cross_val_score(MultinomialNB, numeric_X, Y, scoring=\"accuracy\", cv=5)\n",
    "\n",
    "print(\"While setting of TfidfVectorizer is empyt: \")\n",
    "print( \"Accuracy for our classifier by using SVM is \" + str(round(np.mean(acc_SVC), 3)) )\n",
    "print( \"Accuracy for our classifier by using Native Bayes is \" + str(round(np.mean(acc_NB), 3)) )"
   ]
  },
  {
   "cell_type": "code",
   "execution_count": 98,
   "metadata": {},
   "outputs": [
    {
     "name": "stdout",
     "output_type": "stream",
     "text": [
      "While setting of TfidfVectorizer is ngram_range=(1,2) : \n",
      "Accuracy for our classifier by using SVM is 0.813\n",
      "Accuracy for our classifier by using Native Bayes is 0.798\n"
     ]
    }
   ],
   "source": [
    "from sklearn.feature_extraction.text import TfidfVectorizer\n",
    "from sklearn.svm import LinearSVC\n",
    "from sklearn.naive_bayes import MultinomialNB\n",
    "\n",
    "tfidf_vectorizer = TfidfVectorizer(ngram_range=(1,2))\n",
    "tfidf_vectorizer.fit(X_text)\n",
    "numeric_X = tfidf_vectorizer.transform(X_text)\n",
    "\n",
    "LinearSVC  = LinearSVC()\n",
    "MultinomialNB = MultinomialNB()\n",
    "acc_SVC = model_selection.cross_val_score(LinearSVC, numeric_X, Y, scoring=\"accuracy\", cv=5)\n",
    "acc_NB = model_selection.cross_val_score(MultinomialNB, numeric_X, Y, scoring=\"accuracy\", cv=5)\n",
    "\n",
    "print(\"While setting of TfidfVectorizer is ngram_range=(1,2) : \")\n",
    "print( \"Accuracy for our classifier by using SVM is \" + str(round(np.mean(acc_SVC), 3)) )\n",
    "print( \"Accuracy for our classifier by using Native Bayes is \" + str(round(np.mean(acc_NB), 3)) )"
   ]
  },
  {
   "cell_type": "code",
   "execution_count": 99,
   "metadata": {},
   "outputs": [
    {
     "name": "stdout",
     "output_type": "stream",
     "text": [
      "While setting of TfidfVectorizer is lowercase=False : \n",
      "Accuracy for our classifier by using SVM is 0.8\n",
      "Accuracy for our classifier by using Native Bayes is 0.776\n"
     ]
    }
   ],
   "source": [
    "from sklearn.feature_extraction.text import TfidfVectorizer\n",
    "from sklearn.svm import LinearSVC\n",
    "from sklearn.naive_bayes import MultinomialNB\n",
    "\n",
    "tfidf_vectorizer = TfidfVectorizer(lowercase=False)\n",
    "tfidf_vectorizer.fit(X_text)\n",
    "numeric_X = tfidf_vectorizer.transform(X_text)\n",
    "\n",
    "LinearSVC  = LinearSVC()\n",
    "MultinomialNB = MultinomialNB()\n",
    "acc_SVC = model_selection.cross_val_score(LinearSVC, numeric_X, Y, scoring=\"accuracy\", cv=5)\n",
    "acc_NB = model_selection.cross_val_score(MultinomialNB, numeric_X, Y, scoring=\"accuracy\", cv=5)\n",
    "\n",
    "print(\"While setting of TfidfVectorizer is lowercase=False : \")\n",
    "print( \"Accuracy for our classifier by using SVM is \" + str(round(np.mean(acc_SVC), 3)) )\n",
    "print( \"Accuracy for our classifier by using Native Bayes is \" + str(round(np.mean(acc_NB), 3)) )"
   ]
  },
  {
   "cell_type": "code",
   "execution_count": 100,
   "metadata": {},
   "outputs": [
    {
     "name": "stdout",
     "output_type": "stream",
     "text": [
      "While setting of TfidfVectorizer is stop_words=\"english\" : \n",
      "Accuracy for our classifier by using SVM is 0.779\n",
      "Accuracy for our classifier by using Native Bayes is 0.765\n"
     ]
    }
   ],
   "source": [
    "from sklearn.feature_extraction.text import TfidfVectorizer\n",
    "from sklearn.svm import LinearSVC\n",
    "from sklearn.naive_bayes import MultinomialNB\n",
    "\n",
    "tfidf_vectorizer = TfidfVectorizer(stop_words=\"english\")\n",
    "tfidf_vectorizer.fit(X_text)\n",
    "numeric_X = tfidf_vectorizer.transform(X_text)\n",
    "\n",
    "LinearSVC  = LinearSVC()\n",
    "MultinomialNB = MultinomialNB()\n",
    "acc_SVC = model_selection.cross_val_score(LinearSVC, numeric_X, Y, scoring=\"accuracy\", cv=5)\n",
    "acc_NB = model_selection.cross_val_score(MultinomialNB, numeric_X, Y, scoring=\"accuracy\", cv=5)\n",
    "\n",
    "print(\"While setting of TfidfVectorizer is stop_words=\\\"english\\\" : \")\n",
    "print( \"Accuracy for our classifier by using SVM is \" + str(round(np.mean(acc_SVC), 3)) )\n",
    "print( \"Accuracy for our classifier by using Native Bayes is \" + str(round(np.mean(acc_NB), 3)) )"
   ]
  },
  {
   "cell_type": "code",
   "execution_count": 101,
   "metadata": {},
   "outputs": [
    {
     "name": "stdout",
     "output_type": "stream",
     "text": [
      "While setting of TfidfVectorizer are ngram_range=(1,2), lowercase=False : \n",
      "Accuracy for our classifier by using SVM is 0.81\n",
      "Accuracy for our classifier by using Native Bayes is 0.789\n"
     ]
    }
   ],
   "source": [
    "from sklearn.feature_extraction.text import TfidfVectorizer\n",
    "from sklearn.svm import LinearSVC\n",
    "from sklearn.naive_bayes import MultinomialNB\n",
    "\n",
    "tfidf_vectorizer = TfidfVectorizer(ngram_range=(1,2), lowercase=False)\n",
    "tfidf_vectorizer.fit(X_text)\n",
    "numeric_X = tfidf_vectorizer.transform(X_text)\n",
    "\n",
    "LinearSVC  = LinearSVC()\n",
    "MultinomialNB = MultinomialNB()\n",
    "acc_SVC = model_selection.cross_val_score(LinearSVC, numeric_X, Y, scoring=\"accuracy\", cv=5)\n",
    "acc_NB = model_selection.cross_val_score(MultinomialNB, numeric_X, Y, scoring=\"accuracy\", cv=5)\n",
    "\n",
    "print(\"While setting of TfidfVectorizer are ngram_range=(1,2), lowercase=False : \")\n",
    "print( \"Accuracy for our classifier by using SVM is \" + str(round(np.mean(acc_SVC), 3)) )\n",
    "print( \"Accuracy for our classifier by using Native Bayes is \" + str(round(np.mean(acc_NB), 3)) )"
   ]
  },
  {
   "cell_type": "code",
   "execution_count": 102,
   "metadata": {},
   "outputs": [
    {
     "name": "stdout",
     "output_type": "stream",
     "text": [
      "While setting of TfidfVectorizer are ngram_range=(1,2), stop_words=\"english\" :\n",
      "Accuracy for our classifier by using SVM is 0.786\n",
      "Accuracy for our classifier by using Native Bayes is 0.789\n"
     ]
    }
   ],
   "source": [
    "from sklearn.feature_extraction.text import TfidfVectorizer\n",
    "from sklearn.svm import LinearSVC\n",
    "from sklearn.naive_bayes import MultinomialNB\n",
    "\n",
    "tfidf_vectorizer = TfidfVectorizer(ngram_range=(1,2), stop_words=\"english\")\n",
    "tfidf_vectorizer.fit(X_text)\n",
    "numeric_X = tfidf_vectorizer.transform(X_text)\n",
    "\n",
    "LinearSVC  = LinearSVC()\n",
    "MultinomialNB = MultinomialNB()\n",
    "acc_SVC = model_selection.cross_val_score(LinearSVC, numeric_X, Y, scoring=\"accuracy\", cv=5)\n",
    "acc_NB = model_selection.cross_val_score(MultinomialNB, numeric_X, Y, scoring=\"accuracy\", cv=5)\n",
    "\n",
    "print(\"While setting of TfidfVectorizer are ngram_range=(1,2), stop_words=\\\"english\\\" :\")\n",
    "print( \"Accuracy for our classifier by using SVM is \" + str(round(np.mean(acc_SVC), 3)) )\n",
    "print( \"Accuracy for our classifier by using Native Bayes is \" + str(round(np.mean(acc_NB), 3)) )"
   ]
  },
  {
   "cell_type": "code",
   "execution_count": 103,
   "metadata": {},
   "outputs": [
    {
     "name": "stdout",
     "output_type": "stream",
     "text": [
      "While setting of TfidfVectorizer are lowercase=False, stop_words=\"english\" :\n",
      "Accuracy for our classifier by using SVM is 0.777\n",
      "Accuracy for our classifier by using Native Bayes is 0.782\n"
     ]
    }
   ],
   "source": [
    "from sklearn.feature_extraction.text import TfidfVectorizer\n",
    "from sklearn.svm import LinearSVC\n",
    "from sklearn.naive_bayes import MultinomialNB\n",
    "\n",
    "tfidf_vectorizer = TfidfVectorizer(lowercase=False, stop_words=\"english\")\n",
    "tfidf_vectorizer.fit(X_text)\n",
    "numeric_X = tfidf_vectorizer.transform(X_text)\n",
    "\n",
    "LinearSVC  = LinearSVC()\n",
    "MultinomialNB = MultinomialNB()\n",
    "acc_SVC = model_selection.cross_val_score(LinearSVC, numeric_X, Y, scoring=\"accuracy\", cv=5)\n",
    "acc_NB = model_selection.cross_val_score(MultinomialNB, numeric_X, Y, scoring=\"accuracy\", cv=5)\n",
    "\n",
    "print(\"While setting of TfidfVectorizer are lowercase=False, stop_words=\\\"english\\\" :\")\n",
    "print( \"Accuracy for our classifier by using SVM is \" + str(round(np.mean(acc_SVC), 3)) )\n",
    "print( \"Accuracy for our classifier by using Native Bayes is \" + str(round(np.mean(acc_NB), 3)) )"
   ]
  },
  {
   "cell_type": "code",
   "execution_count": 104,
   "metadata": {},
   "outputs": [
    {
     "name": "stdout",
     "output_type": "stream",
     "text": [
      "While setting of TfidfVectorizer are ngram_range=(1,2), lowercase=False, stop_words=\"english\" :\n",
      "Accuracy for our classifier by using SVM is 0.782\n",
      "Accuracy for our classifier by using Native Bayes is 0.786\n"
     ]
    }
   ],
   "source": [
    "from sklearn.feature_extraction.text import TfidfVectorizer\n",
    "from sklearn.svm import LinearSVC\n",
    "from sklearn.naive_bayes import MultinomialNB\n",
    "\n",
    "tfidf_vectorizer = TfidfVectorizer(ngram_range=(1,2), lowercase=False, stop_words=\"english\")\n",
    "tfidf_vectorizer.fit(X_text)\n",
    "numeric_X = tfidf_vectorizer.transform(X_text)\n",
    "\n",
    "LinearSVC  = LinearSVC()\n",
    "MultinomialNB = MultinomialNB()\n",
    "acc_SVC = model_selection.cross_val_score(LinearSVC, numeric_X, Y, scoring=\"accuracy\", cv=5)\n",
    "acc_NB = model_selection.cross_val_score(MultinomialNB, numeric_X, Y, scoring=\"accuracy\", cv=5)\n",
    "\n",
    "print(\"While setting of TfidfVectorizer are ngram_range=(1,2), lowercase=False, stop_words=\\\"english\\\" :\")\n",
    "print( \"Accuracy for our classifier by using SVM is \" + str(round(np.mean(acc_SVC), 3)) )\n",
    "print( \"Accuracy for our classifier by using Native Bayes is \" + str(round(np.mean(acc_NB), 3)) )"
   ]
  },
  {
   "cell_type": "markdown",
   "metadata": {},
   "source": [
    "#\n",
    "\n",
    "#\n",
    "\n",
    "#\n",
    "\n",
    "#\n",
    "\n",
    "#\n",
    "\n",
    "#"
   ]
  },
  {
   "cell_type": "code",
   "execution_count": 113,
   "metadata": {},
   "outputs": [
    {
     "name": "stderr",
     "output_type": "stream",
     "text": [
      "/Users/guosiyuan/miniconda3/lib/python3.6/site-packages/sklearn/svm/base.py:922: ConvergenceWarning: Liblinear failed to converge, increase the number of iterations.\n",
      "  \"the number of iterations.\", ConvergenceWarning)\n"
     ]
    },
    {
     "name": "stdout",
     "output_type": "stream",
     "text": [
      "While setting of CountVectorizer is empty :\n",
      "Accuracy for our classifier by using SVM is 0.777\n",
      "Accuracy for our classifier by using Native Bayes is 0.798\n"
     ]
    }
   ],
   "source": [
    "from sklearn.svm import LinearSVC\n",
    "from sklearn.naive_bayes import MultinomialNB\n",
    "\n",
    "count_vectorizer = CountVectorizer()\n",
    "count_vectorizer.fit(X_text)\n",
    "numeric_X = count_vectorizer.transform(X_text)\n",
    "\n",
    "LinearSVC  = LinearSVC()\n",
    "MultinomialNB = MultinomialNB()\n",
    "acc_SVC = model_selection.cross_val_score(LinearSVC, numeric_X, Y, scoring=\"accuracy\", cv=5)\n",
    "acc_NB = model_selection.cross_val_score(MultinomialNB, numeric_X, Y, scoring=\"accuracy\", cv=5)\n",
    "\n",
    "print(\"While setting of CountVectorizer is empty :\")\n",
    "print( \"Accuracy for our classifier by using SVM is \" + str(round(np.mean(acc_SVC), 3)) )\n",
    "print( \"Accuracy for our classifier by using Native Bayes is \" + str(round(np.mean(acc_NB), 3)) )"
   ]
  },
  {
   "cell_type": "code",
   "execution_count": 114,
   "metadata": {},
   "outputs": [
    {
     "name": "stderr",
     "output_type": "stream",
     "text": [
      "/Users/guosiyuan/miniconda3/lib/python3.6/site-packages/sklearn/svm/base.py:922: ConvergenceWarning: Liblinear failed to converge, increase the number of iterations.\n",
      "  \"the number of iterations.\", ConvergenceWarning)\n"
     ]
    },
    {
     "name": "stdout",
     "output_type": "stream",
     "text": [
      "While setting of CountVectorizer is ngram_range=(1,2) :\n",
      "Accuracy for our classifier by using SVM is 0.775\n",
      "Accuracy for our classifier by using Native Bayes is 0.801\n"
     ]
    }
   ],
   "source": [
    "from sklearn.svm import LinearSVC\n",
    "from sklearn.naive_bayes import MultinomialNB\n",
    "\n",
    "count_vectorizer = CountVectorizer(ngram_range=(1,2))\n",
    "count_vectorizer.fit(X_text)\n",
    "numeric_X = count_vectorizer.transform(X_text)\n",
    "\n",
    "LinearSVC  = LinearSVC()\n",
    "MultinomialNB = MultinomialNB()\n",
    "acc_SVC = model_selection.cross_val_score(LinearSVC, numeric_X, Y, scoring=\"accuracy\", cv=5)\n",
    "acc_NB = model_selection.cross_val_score(MultinomialNB, numeric_X, Y, scoring=\"accuracy\", cv=5)\n",
    "\n",
    "print(\"While setting of CountVectorizer is ngram_range=(1,2) :\")\n",
    "print( \"Accuracy for our classifier by using SVM is \" + str(round(np.mean(acc_SVC), 3)) )\n",
    "print( \"Accuracy for our classifier by using Native Bayes is \" + str(round(np.mean(acc_NB), 3)) )"
   ]
  },
  {
   "cell_type": "code",
   "execution_count": 115,
   "metadata": {},
   "outputs": [
    {
     "name": "stderr",
     "output_type": "stream",
     "text": [
      "/Users/guosiyuan/miniconda3/lib/python3.6/site-packages/sklearn/svm/base.py:922: ConvergenceWarning: Liblinear failed to converge, increase the number of iterations.\n",
      "  \"the number of iterations.\", ConvergenceWarning)\n"
     ]
    },
    {
     "name": "stdout",
     "output_type": "stream",
     "text": [
      "While setting of CountVectorizer is lowercase=False :\n",
      "Accuracy for our classifier by using SVM is 0.774\n",
      "Accuracy for our classifier by using Native Bayes is 0.767\n"
     ]
    }
   ],
   "source": [
    "from sklearn.svm import LinearSVC\n",
    "from sklearn.naive_bayes import MultinomialNB\n",
    "\n",
    "count_vectorizer = CountVectorizer(lowercase=False)\n",
    "count_vectorizer.fit(X_text)\n",
    "numeric_X = count_vectorizer.transform(X_text)\n",
    "\n",
    "LinearSVC  = LinearSVC()\n",
    "MultinomialNB = MultinomialNB()\n",
    "acc_SVC = model_selection.cross_val_score(LinearSVC, numeric_X, Y, scoring=\"accuracy\", cv=5)\n",
    "acc_NB = model_selection.cross_val_score(MultinomialNB, numeric_X, Y, scoring=\"accuracy\", cv=5)\n",
    "\n",
    "print(\"While setting of CountVectorizer is lowercase=False :\")\n",
    "print( \"Accuracy for our classifier by using SVM is \" + str(round(np.mean(acc_SVC), 3)) )\n",
    "print( \"Accuracy for our classifier by using Native Bayes is \" + str(round(np.mean(acc_NB), 3)) )"
   ]
  },
  {
   "cell_type": "code",
   "execution_count": 120,
   "metadata": {},
   "outputs": [
    {
     "name": "stderr",
     "output_type": "stream",
     "text": [
      "/Users/guosiyuan/miniconda3/lib/python3.6/site-packages/sklearn/svm/base.py:922: ConvergenceWarning: Liblinear failed to converge, increase the number of iterations.\n",
      "  \"the number of iterations.\", ConvergenceWarning)\n"
     ]
    },
    {
     "name": "stdout",
     "output_type": "stream",
     "text": [
      "While setting of CountVectorizer is stop_words=\"english\" :\n",
      "Accuracy for our classifier by using SVM is 0.754\n",
      "Accuracy for our classifier by using Native Bayes is 0.761\n"
     ]
    }
   ],
   "source": [
    "from sklearn.svm import LinearSVC\n",
    "from sklearn.naive_bayes import MultinomialNB\n",
    "\n",
    "count_vectorizer = CountVectorizer(stop_words=\"english\")\n",
    "count_vectorizer.fit(X_text)\n",
    "numeric_X = count_vectorizer.transform(X_text)\n",
    "\n",
    "LinearSVC  = LinearSVC()\n",
    "MultinomialNB = MultinomialNB()\n",
    "acc_SVC = model_selection.cross_val_score(LinearSVC, numeric_X, Y, scoring=\"accuracy\", cv=5)\n",
    "acc_NB = model_selection.cross_val_score(MultinomialNB, numeric_X, Y, scoring=\"accuracy\", cv=5)\n",
    "\n",
    "print(\"While setting of CountVectorizer is stop_words=\\\"english\\\" :\")\n",
    "print( \"Accuracy for our classifier by using SVM is \" + str(round(np.mean(acc_SVC), 3)) )\n",
    "print( \"Accuracy for our classifier by using Native Bayes is \" + str(round(np.mean(acc_NB), 3)) )"
   ]
  },
  {
   "cell_type": "code",
   "execution_count": 119,
   "metadata": {},
   "outputs": [
    {
     "name": "stderr",
     "output_type": "stream",
     "text": [
      "/Users/guosiyuan/miniconda3/lib/python3.6/site-packages/sklearn/svm/base.py:922: ConvergenceWarning: Liblinear failed to converge, increase the number of iterations.\n",
      "  \"the number of iterations.\", ConvergenceWarning)\n"
     ]
    },
    {
     "name": "stdout",
     "output_type": "stream",
     "text": [
      "While setting of CountVectorizer are ngram_range=(1,2), lowercase=False :\n",
      "Accuracy for our classifier by using SVM is 0.777\n",
      "Accuracy for our classifier by using Native Bayes is 0.798\n"
     ]
    }
   ],
   "source": [
    "from sklearn.svm import LinearSVC\n",
    "from sklearn.naive_bayes import MultinomialNB\n",
    "\n",
    "count_vectorizer = CountVectorizer(ngram_range=(1,2), lowercase=False)\n",
    "count_vectorizer.fit(X_text)\n",
    "numeric_X = count_vectorizer.transform(X_text)\n",
    "\n",
    "LinearSVC  = LinearSVC()\n",
    "MultinomialNB = MultinomialNB()\n",
    "acc_SVC = model_selection.cross_val_score(LinearSVC, numeric_X, Y, scoring=\"accuracy\", cv=5)\n",
    "acc_NB = model_selection.cross_val_score(MultinomialNB, numeric_X, Y, scoring=\"accuracy\", cv=5)\n",
    "\n",
    "print(\"While setting of CountVectorizer are ngram_range=(1,2), lowercase=False :\")\n",
    "print( \"Accuracy for our classifier by using SVM is \" + str(round(np.mean(acc_SVC), 3)) )\n",
    "print( \"Accuracy for our classifier by using Native Bayes is \" + str(round(np.mean(acc_NB), 3)) )"
   ]
  },
  {
   "cell_type": "code",
   "execution_count": 118,
   "metadata": {},
   "outputs": [
    {
     "name": "stderr",
     "output_type": "stream",
     "text": [
      "/Users/guosiyuan/miniconda3/lib/python3.6/site-packages/sklearn/svm/base.py:922: ConvergenceWarning: Liblinear failed to converge, increase the number of iterations.\n",
      "  \"the number of iterations.\", ConvergenceWarning)\n"
     ]
    },
    {
     "name": "stdout",
     "output_type": "stream",
     "text": [
      "While setting of CountVectorizer are ngram_range=(1,2), stop_words=\"english\" :\n",
      "Accuracy for our classifier by using SVM is 0.76\n",
      "Accuracy for our classifier by using Native Bayes is 0.771\n"
     ]
    }
   ],
   "source": [
    "from sklearn.svm import LinearSVC\n",
    "from sklearn.naive_bayes import MultinomialNB\n",
    "\n",
    "count_vectorizer = CountVectorizer(ngram_range=(1,2), stop_words=\"english\")\n",
    "count_vectorizer.fit(X_text)\n",
    "numeric_X = count_vectorizer.transform(X_text)\n",
    "\n",
    "LinearSVC  = LinearSVC()\n",
    "MultinomialNB = MultinomialNB()\n",
    "acc_SVC = model_selection.cross_val_score(LinearSVC, numeric_X, Y, scoring=\"accuracy\", cv=5)\n",
    "acc_NB = model_selection.cross_val_score(MultinomialNB, numeric_X, Y, scoring=\"accuracy\", cv=5)\n",
    "\n",
    "print(\"While setting of CountVectorizer are ngram_range=(1,2), stop_words=\\\"english\\\" :\")\n",
    "print( \"Accuracy for our classifier by using SVM is \" + str(round(np.mean(acc_SVC), 3)) )\n",
    "print( \"Accuracy for our classifier by using Native Bayes is \" + str(round(np.mean(acc_NB), 3)) )"
   ]
  },
  {
   "cell_type": "code",
   "execution_count": 117,
   "metadata": {},
   "outputs": [
    {
     "name": "stderr",
     "output_type": "stream",
     "text": [
      "/Users/guosiyuan/miniconda3/lib/python3.6/site-packages/sklearn/svm/base.py:922: ConvergenceWarning: Liblinear failed to converge, increase the number of iterations.\n",
      "  \"the number of iterations.\", ConvergenceWarning)\n"
     ]
    },
    {
     "name": "stdout",
     "output_type": "stream",
     "text": [
      "While setting of CountVectorizer are stop_words=\"english\", lowercase=False :\n",
      "Accuracy for our classifier by using SVM is 0.746\n",
      "Accuracy for our classifier by using Native Bayes is 0.763\n"
     ]
    }
   ],
   "source": [
    "from sklearn.svm import LinearSVC\n",
    "from sklearn.naive_bayes import MultinomialNB\n",
    "\n",
    "count_vectorizer = CountVectorizer(stop_words=\"english\", lowercase=False)\n",
    "count_vectorizer.fit(X_text)\n",
    "numeric_X = count_vectorizer.transform(X_text)\n",
    "\n",
    "LinearSVC  = LinearSVC()\n",
    "MultinomialNB = MultinomialNB()\n",
    "acc_SVC = model_selection.cross_val_score(LinearSVC, numeric_X, Y, scoring=\"accuracy\", cv=5)\n",
    "acc_NB = model_selection.cross_val_score(MultinomialNB, numeric_X, Y, scoring=\"accuracy\", cv=5)\n",
    "\n",
    "print(\"While setting of CountVectorizer are stop_words=\\\"english\\\", lowercase=False :\")\n",
    "print( \"Accuracy for our classifier by using SVM is \" + str(round(np.mean(acc_SVC), 3)) )\n",
    "print( \"Accuracy for our classifier by using Native Bayes is \" + str(round(np.mean(acc_NB), 3)) )"
   ]
  },
  {
   "cell_type": "code",
   "execution_count": 116,
   "metadata": {},
   "outputs": [
    {
     "name": "stderr",
     "output_type": "stream",
     "text": [
      "/Users/guosiyuan/miniconda3/lib/python3.6/site-packages/sklearn/svm/base.py:922: ConvergenceWarning: Liblinear failed to converge, increase the number of iterations.\n",
      "  \"the number of iterations.\", ConvergenceWarning)\n"
     ]
    },
    {
     "name": "stdout",
     "output_type": "stream",
     "text": [
      "While setting of CountVectorizer are ngram_range=(1,2), stop_words=\"english\", lowercase=False :\n",
      "Accuracy for our classifier by using SVM is 0.762\n",
      "Accuracy for our classifier by using Native Bayes is 0.769\n"
     ]
    }
   ],
   "source": [
    "from sklearn.svm import LinearSVC\n",
    "from sklearn.naive_bayes import MultinomialNB\n",
    "\n",
    "count_vectorizer = CountVectorizer(ngram_range=(1,2), stop_words=\"english\", lowercase=False)\n",
    "count_vectorizer.fit(X_text)\n",
    "numeric_X = count_vectorizer.transform(X_text)\n",
    "\n",
    "LinearSVC  = LinearSVC()\n",
    "MultinomialNB = MultinomialNB()\n",
    "acc_SVC = model_selection.cross_val_score(LinearSVC, numeric_X, Y, scoring=\"accuracy\", cv=5)\n",
    "acc_NB = model_selection.cross_val_score(MultinomialNB, numeric_X, Y, scoring=\"accuracy\", cv=5)\n",
    "\n",
    "print(\"While setting of CountVectorizer are ngram_range=(1,2), stop_words=\\\"english\\\", lowercase=False :\")\n",
    "print( \"Accuracy for our classifier by using SVM is \" + str(round(np.mean(acc_SVC), 3)) )\n",
    "print( \"Accuracy for our classifier by using Native Bayes is \" + str(round(np.mean(acc_NB), 3)) )"
   ]
  },
  {
   "cell_type": "markdown",
   "metadata": {},
   "source": [
    "#####The tfidf vectorizer with setting ngram_range=(1,2) could work with the linear SVC to get the highest accuracy.\n",
    "#####The value of the highest accuracy is 0.813."
   ]
  }
 ],
 "metadata": {
  "kernelspec": {
   "display_name": "Python 3",
   "language": "python",
   "name": "python3"
  },
  "language_info": {
   "codemirror_mode": {
    "name": "ipython",
    "version": 3
   },
   "file_extension": ".py",
   "mimetype": "text/x-python",
   "name": "python",
   "nbconvert_exporter": "python",
   "pygments_lexer": "ipython3",
   "version": "3.6.2"
  }
 },
 "nbformat": 4,
 "nbformat_minor": 1
}
