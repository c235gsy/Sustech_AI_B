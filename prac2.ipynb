{
 "cells": [
  {
   "cell_type": "markdown",
   "metadata": {},
   "source": [
    "# Introduction to Artificial Intelligence for Non Computing"
   ]
  },
  {
   "cell_type": "markdown",
   "metadata": {},
   "source": [
    "## Practical 2 (weeks 3 - 4)"
   ]
  },
  {
   "cell_type": "markdown",
   "metadata": {},
   "source": [
    "## Search Techniques"
   ]
  },
  {
   "cell_type": "markdown",
   "metadata": {},
   "source": [
    "The following links provide additional information about depth first search and breath first search"
   ]
  },
  {
   "cell_type": "markdown",
   "metadata": {},
   "source": [
    "- Depth first search:   link：https://pan.baidu.com/s/1bkLHKKbSBNpfFuKwDyURqw  password：oy76\n",
    "- Breath first search:  link：https://pan.baidu.com/s/176g5q0W3rGbSAM5tZMraeg   password：7mdh"
   ]
  },
  {
   "cell_type": "markdown",
   "metadata": {},
   "source": [
    "#### Theory Questions "
   ]
  },
  {
   "cell_type": "markdown",
   "metadata": {},
   "source": [
    "1\\. What is an algorithm? A sequence of steps such as a recipe or a movie script.\n",
    "\n",
    "As a movie viewer, please write an algorithm for a process to \"see a movie\". Include details of the following for example (add additional information yourself):\n",
    "\t- The start conditions \n",
    "\t-- I want to watch a movie\n",
    "\t- Roles (people/actors involved) \n",
    "    --watcher, ticket seller etc \n",
    "    -Equipment required (\"props\")\n",
    "    --seats, ticket etc\n",
    "    - The scenes \n",
    "    -- scene 1 - buy ticket \n",
    "    -- ??? what happens next\n",
    "    -- scene 3, scene 3 ...\n",
    "    - Results/outcomes\n",
    "    -- ?\n"
   ]
  },
  {
   "cell_type": "markdown",
   "metadata": {},
   "source": [
    "- The start conditions \n",
    "\n",
    "-- I want to watch a movie\n",
    "\n",
    "-- There are movies.\n",
    "\n",
    "-- I have enough money to buy a movie ticket.\n",
    "\n",
    "- Roles (people/actors involved) \n",
    "\n",
    "-- actors, the derecter, screenwriters, watcher, ticket seller, the doorman, the projector etc \n",
    "\n",
    "- Equipment required (\"props\")\n",
    "\n",
    "-- movies, bioscopes, lights, screens, sound boxes, seats, money, tickets etc\n",
    "\n",
    "- The scenes \n",
    "\n",
    "-- scene 1 - buy ticket\n",
    "\n",
    "-- I choose the movie I want.\n",
    "\n",
    "-- I choose the seat I want.\n",
    "\n",
    "-- Ticket seller gives me the bill.\n",
    "\n",
    "-- I pay money for the bill.\n",
    "\n",
    "-- I get the ticket back.\n",
    "\n",
    "-- scene 2 - enter the screening hall\n",
    "\n",
    "-- I show my ticket to the watcher.\n",
    "\n",
    "-- Watcher check my ticket and mark it.\n",
    "\n",
    "-- I enter the arena.\n",
    "\n",
    "-- scene 3 - watch movie\n",
    "\n",
    "-- I find my seat.\n",
    "\n",
    "-- I sit down at the seat.\n",
    "\n",
    "-- I watch the movie.\n",
    "\n",
    "-- scene 4 - movie over\n",
    "\n",
    "-- The movie end.\n",
    "\n",
    "-- I leave the screening hall.\n",
    "\n",
    "- Results/outcomes\n",
    "\n",
    "-- I have a good night.\n",
    "\n",
    "-- I cost some money for this movie.\n",
    "\n",
    "-- The cinema earned money.\n",
    "\n",
    "***"
   ]
  },
  {
   "cell_type": "markdown",
   "metadata": {},
   "source": [
    "2\\. A farmer with his wolf, duck and bag of corn come to the east side of a river they wish to cross. There is a boat at the rivers edge, but of course only the farmer can row. The boat can only hold two things (including the rower) at any one time. If the wolf is ever left alone with the duck, the wolf will eat it. Similarly if the duck is ever left alone with the corn, the duck will eat it. How can the farmer get across the river so that all four arrive safely on the other side? "
   ]
  },
  {
   "cell_type": "markdown",
   "metadata": {},
   "source": [
    "Initial State\n",
    "\n",
    "Step1: The farmer takes his duck to the western side.\n",
    "\n",
    "Step2: The farmer return to the east side.\n",
    "\n",
    "Step3: The farmer takes his worf to the western side.\n",
    "\n",
    "Step4: The farmer return to the east side with his duck.\n",
    "\n",
    "Step5: The farmer takes bag of corn to the western side.\n",
    "\n",
    "Step6: The farmer return to the east side.\n",
    "\n",
    "Step7: The farmer takes his duck to the western side.\n",
    "\n",
    "Task finished\n",
    "***\n"
   ]
  },
  {
   "cell_type": "markdown",
   "metadata": {},
   "source": [
    " "
   ]
  },
  {
   "cell_type": "markdown",
   "metadata": {},
   "source": [
    "3\\.Explain why we determine our problem goals before we write the problem formulation (including the model and deciding what algorithm or techniques to use - for example search, or other method).\n",
    "\n",
    "See Chapter3.1 (Russel & Norvig)"
   ]
  },
  {
   "cell_type": "markdown",
   "metadata": {},
   "source": [
    "In most of the cases, it is considered that a goal to be a set of world states—exactly those states in which the goal is satisﬁed. The work of an agent is to ﬁnd out how to act, now and in the future, so that it reaches a goal state. In this way, we need to decide on its behalf or it needs to decide what sorts of actions and states it should consider. The problem formulation is the process of deciding what actions and states to consider, given a goal. Becaues at that level of detail, there is too much uncertainty in the world and there would be too many steps in a solution, it is very necessary for us to do the problem formulation before we write the problem formulation. Determining our problem goals is a part of problem formulation, and it helps us to set a limit or standard to decide whether a kind of information about our problems is detailed and ignorable, which is very important in the process of problem formulation.\n",
    "\n",
    "****"
   ]
  },
  {
   "cell_type": "markdown",
   "metadata": {},
   "source": [
    "4\\. This question requires you to perform BFS and DFS on paper.\n",
    "\n",
    "<img src=\"img/p1.png\" width=\"180\" height=\"180\" >\n",
    "\n",
    "1. Simulate (on pencil-and-paper) breadth-first search starting from node A when the goal node is K.\n",
    "2. Simulate (on pencil-and-paper) depth first search starting from node A when the goal node is I.\n"
   ]
  },
  {
   "cell_type": "markdown",
   "metadata": {},
   "source": [
    "              A\n",
    "              |\n",
    "              B\n",
    "              |\n",
    "        C           D\n",
    "        |           |\n",
    "     E     F  |   G     H\n",
    "              |         |\n",
    "              |      I     K\n",
    "\n",
    "\n",
    "1. [A]\n",
    "   [B]\n",
    "   [C,D]\n",
    "   [[E,F],[G,H]]\n",
    "   [[],[],[],[I,K]]\n",
    "   K = goal\n",
    "  \n",
    "  \n",
    "2. [A,B,C,E] \n",
    "   [A,B,C,F] \n",
    "   [A,B,D,G]\n",
    "   [A,B,D,H]\n",
    "   [A,B,D,H,I]\n",
    "   [A,B,D,H,K]\n",
    "   I = goal\n"
   ]
  },
  {
   "cell_type": "markdown",
   "metadata": {},
   "source": [
    "5\\.Consider a state space where the start state is number 1 and each state  k has two successors: numbers 2k and 2k + 1.\n",
    "- a. Draw the portion of the state space for states 1 to 15.\n",
    "- b. Suppose the goal state is 11. List the order in which nodes will be visited for breadthfirst\n",
    "search, depth-limited search with limit 3, and iterative deepening search.\n",
    "- c. How well would bidirectional search work on this problem? What is the branching\n",
    "factor in each direction of the bidirectional search?\n",
    "- d. Does the answer to (c) suggest a reformulation of the problem that would allow you to\n",
    "solve the problem of getting from state 1 to a given goal state with almost no search?\n",
    "- e. Call the action going from k to 2k Left, and the action going to 2k + 1 Right. Can you\n",
    "find an algorithm that outputs the solution to this problem without any search at all?\n",
    "\n",
    "See textbook Chapter3.15"
   ]
  },
  {
   "cell_type": "markdown",
   "metadata": {},
   "source": [
    "a:                       \n",
    "\n",
    "\n",
    "                           1\n",
    "                           \n",
    "                     2     |     3 \n",
    "                    \n",
    "         4     |     5     |     7     |    6\n",
    "         \n",
    "      8  |  9  | 10  | 11  | 15  | 14  | 13  | 12\n",
    "      \n",
    "    16 17|18 19|20 21|22 23|30 31|28 29|26 27|24 25 \n",
    "\n",
    "b.  \n",
    "breadthfirst search  :\n",
    "\n",
    "[1]\n",
    "[2,3]\n",
    "[[4,5],[7,6]]\n",
    "[[8,9],[10,11],[15,14],[13,12]]\n",
    "\n",
    "depth-limited search :\n",
    "\n",
    "l = 3\n",
    "\n",
    "[1,2,4,8]\n",
    "[1,2,4,9]\n",
    "[1,2,5,10]\n",
    "[1,2,5,11]\n",
    "[1,3,7,15]\n",
    "[1,3,7,14]\n",
    "[1,3,6,13]\n",
    "[1,3,6,12]\n",
    "\n",
    "iterative deepening search:\n",
    "\n",
    "d=0\n",
    "\n",
    "[1]\n",
    "\n",
    "d=1\n",
    "\n",
    "[1,2]\n",
    "[1,3]\n",
    "\n",
    "d=2\n",
    "\n",
    "[1,2,4]\n",
    "[1,2,5]\n",
    "[1,3,7]\n",
    "[1,3,6]\n",
    "\n",
    "d=3\n",
    "\n",
    "[1,2,4,8]\n",
    "[1,2,5,10]\n",
    "[1,3,7,14]\n",
    "[1,3,6,12]  \n",
    "[1,2,4,9]\n",
    "[1,2,5,11]\n",
    "[1,3,7,15]\n",
    "[1,3,6,13]\n",
    "\n",
    "c.\n",
    "\n",
    "It works very well since every state has a specific way back to the state 1. \n",
    "\n",
    "Start: [1,2] Goal: [11,5,2,1]       \n",
    "\n",
    "d. \n",
    "\n",
    "Yes, consider to the answer of c. form the goal state feed back to the start state is an extraordinary way with almost no search.\n",
    "\n",
    "e. \n",
    "\n",
    "For the number at row m column n, where the column 1 is the most left column, the number is (2 ** (m - 1)- 1 + n)"
   ]
  },
  {
   "cell_type": "markdown",
   "metadata": {},
   "source": [
    "### Programming Excercises"
   ]
  },
  {
   "cell_type": "markdown",
   "metadata": {},
   "source": [
    "1\\.Write a program to solve a classic ancient Chinese puzzle:  \n",
    " We count 35 heads and 94 legs among the chickens and rabbits in a farm. How many rabbits and how many chickens do we have? "
   ]
  },
  {
   "cell_type": "code",
   "execution_count": 11,
   "metadata": {},
   "outputs": [
    {
     "name": "stdout",
     "output_type": "stream",
     "text": [
      "[('rabbit :', 5), ('chickens :', 15)]\n"
     ]
    }
   ],
   "source": [
    "def rabbits_and_chickens_in_one_cage(heads,legs):\n",
    "    rabbits_num = (legs - 2 * heads)/2\n",
    "    chickens_num = heads - rabbits_num\n",
    "    return [(\"rabbit :\",int(rabbits_num)),(\"chickens :\",int(chickens_num))]\n",
    "\n",
    "print (rabbits_and_chickens_in_one_cage(20,50))"
   ]
  },
  {
   "cell_type": "markdown",
   "metadata": {},
   "source": [
    "2\\. _Social networking_ Please look at the graph below of social relationships. You have a mango farm, you need to find a mango buyer and sell him your mango that you have grown (just a small farm). To this end, our principle is to use our social network of friends separated by one degree, and then second degree friends (friends of friends), third degree friends (friends of friends of friends).\n",
    "\n",
    "Use the depth first algorithm to search your network until you find a mango seller. \n",
    "\n",
    "We make an assumption that if the person's name ends with m, then it means the person must be the mango seller!\n",
    "\n",
    "\n",
    "<img src=\"img/p3.png\" width=\"500\" height=\"400\" >"
   ]
  },
  {
   "cell_type": "code",
   "execution_count": 9,
   "metadata": {},
   "outputs": [
    {
     "name": "stdout",
     "output_type": "stream",
     "text": [
      "The mango seller is : thom\n"
     ]
    }
   ],
   "source": [
    "network = {}\n",
    "network[\"you\"] = [\"bob\",\"alice\",\"claire\"]\n",
    "network[\"bob\"] = [\"anuj\",\"peggy\"]\n",
    "network[\"alice\"] = [\"peggy\"]\n",
    "network[\"claire\"] = [\"thom\",\"jonny\"]\n",
    "network[\"anuj\"] = []\n",
    "network[\"peggy\"] = []\n",
    "network[\"thom\"] = []\n",
    "network[\"jonny\"] = []\n",
    "\n",
    "def depth_first(name,net):\n",
    "    if len(net[name]) == 0 and name[-1] == \"m\":\n",
    "        print (\"The mango seller is : \",end=\"\")\n",
    "        print (name)\n",
    "    else:\n",
    "        for friend in net[name]:\n",
    "            depth_first(friend,net)\n",
    "        \n",
    "depth_first(\"you\",network)"
   ]
  },
  {
   "cell_type": "markdown",
   "metadata": {},
   "source": [
    "3\\. Depth First traverse：Use depth first traversal to traverse all the DLL files on the C disk and output the file names.\n",
    "\n",
    "Update your code to search for a particular filename.\n",
    "\n",
    "What protocol did you use to select the next node to expand on the fringe?"
   ]
  },
  {
   "cell_type": "code",
   "execution_count": 12,
   "metadata": {},
   "outputs": [
    {
     "name": "stdout",
     "output_type": "stream",
     "text": [
      "课程.txt\n",
      "课程.txt\n",
      "README.txt\n",
      "《笨办法学python》光盘电子版.txt\n",
      "python下载地址.txt\n",
      ".tr_B7A2158F711E1528124922912.txt.js\n"
     ]
    }
   ],
   "source": [
    "import os\n",
    "\n",
    "def Depth(dic_name,path,filetype = \"\") :\n",
    "    new_path = path+\"/\"+dic_name\n",
    "    the_list = os.listdir(new_path)\n",
    "    the_list_with_path = [new_path+\"/\"+x for x in the_list]\n",
    "    testdir = list(map(os.path.isdir,the_list_with_path))\n",
    "    if True in testdir:\n",
    "        for i in range(0,len(the_list)):\n",
    "            if testdir[i] :\n",
    "                Depth(the_list[i],new_path,filetype)\n",
    "        for j in range(0,len(the_list)):\n",
    "            if testdir[j] == False and filetype in the_list[j]:\n",
    "                print(the_list[j])\n",
    "    else:\n",
    "        for m in the_list:\n",
    "            if filetype in m:\n",
    "                print(m)\n",
    "\n",
    "Depth(\"Downloads\",\"/Users/guosiyuan\",\"txt\")"
   ]
  },
  {
   "cell_type": "markdown",
   "metadata": {},
   "source": [
    "4\\.\n",
    "Breadth First traverse：Use breadth traversal to traverse all the DLL files on the C disk and output the filename.\n",
    "\n",
    "Update your code to search for a particular filename."
   ]
  },
  {
   "cell_type": "code",
   "execution_count": 6,
   "metadata": {},
   "outputs": [
    {
     "name": "stdout",
     "output_type": "stream",
     "text": [
      "《笨办法学python》光盘电子版.txt\n",
      "python下载地址.txt\n",
      ".tr_B7A2158F711E1528124922912.txt.js\n",
      "课程.txt\n",
      "课程.txt\n",
      "README.txt\n"
     ]
    }
   ],
   "source": [
    "import os\n",
    "\n",
    "def Breadth(dir_and_path,filetype = \"\") :\n",
    "    new_dic = {}\n",
    "    for dirname,path in dir_and_path.items():\n",
    "        dirpath = path + \"/\" + dirname\n",
    "        the_list = os.listdir(dirpath) \n",
    "        for th in the_list:\n",
    "            if os.path.isdir(dirpath+\"/\"+th):\n",
    "                new_dic[th] = dirpath\n",
    "            else:\n",
    "                if filetype in th:\n",
    "                    print(th)          \n",
    "    if len(new_dic) != 0:\n",
    "        Breadth(new_dic,filetype)\n",
    "                \n",
    "Breadth({\"Downloads\":\"/Users/guosiyuan\"},\"txt\")"
   ]
  },
  {
   "cell_type": "markdown",
   "metadata": {},
   "source": [
    "5\\. Uniform cost search"
   ]
  },
  {
   "cell_type": "markdown",
   "metadata": {},
   "source": [
    "Consider a state space where the start state is 2 and each state k has three successors: numbers 2k, 2k+1, 2k+2. The cost from state k to each respective child is k, ground(k/2), k+2.\n",
    "\n",
    "can you implement a uniform-cost-search algorithm with python. The goal state is number 85."
   ]
  },
  {
   "cell_type": "code",
   "execution_count": 3,
   "metadata": {},
   "outputs": [
    {
     "name": "stdout",
     "output_type": "stream",
     "text": [
      "53\n"
     ]
    }
   ],
   "source": [
    "import math\n",
    "\n",
    "goal_state = 85\n",
    "state_space = [-1] * (goal_state + 2)\n",
    "state_space[2] = 0\n",
    "\n",
    "for k in range(2, goal_state // 2 + 2):\n",
    "    if state_space[k] != -1: \n",
    "        for num, cost in [(k * 2, k), (k * 2 + 1, math.floor(k / 2)), (k * 2 + 2, k + 2)]:\n",
    "            if num <= goal_state:\n",
    "                if state_space[num] == -1:\n",
    "                    state_space[num] = state_space[k] + cost\n",
    "                else:\n",
    "                    state_space[num] = min(state_space[num], state_space[k] + cost)\n",
    "print(state_space[goal_state])\n",
    "\n"
   ]
  },
  {
   "cell_type": "markdown",
   "metadata": {},
   "source": [
    "6\\.a* question"
   ]
  },
  {
   "cell_type": "markdown",
   "metadata": {},
   "source": [
    "A cute cat stays in the A position, he is hungry. But the food is placed in the B position. Can you help him to find the food? \n",
    "Hint:  The problem isn't easy. It's essential for you to understand the A* algorithm before you solve this problem. Then, you can use some thought of Node in java, when you are in code.\n",
    "\n",
    "<img src=\"img/p4.png\" width=\"500\" height=\"400\" >\n"
   ]
  },
  {
   "cell_type": "code",
   "execution_count": null,
   "metadata": {},
   "outputs": [],
   "source": [
    "## write your answer here!"
   ]
  }
 ],
 "metadata": {
  "kernelspec": {
   "display_name": "Python 3",
   "language": "python",
   "name": "python3"
  },
  "language_info": {
   "codemirror_mode": {
    "name": "ipython",
    "version": 3
   },
   "file_extension": ".py",
   "mimetype": "text/x-python",
   "name": "python",
   "nbconvert_exporter": "python",
   "pygments_lexer": "ipython3",
   "version": "3.6.2"
  }
 },
 "nbformat": 4,
 "nbformat_minor": 2
}
